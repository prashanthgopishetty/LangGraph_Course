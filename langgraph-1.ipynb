{
 "cells": [
  {
   "cell_type": "code",
   "execution_count": 3,
   "id": "87f8c551-999a-4702-88a2-62b79b46d606",
   "metadata": {},
   "outputs": [],
   "source": [
    "import os\n",
    "groq_api_key='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'"
   ]
  },
  {
   "cell_type": "code",
   "execution_count": 4,
   "id": "efacba09-c62b-40d5-abe5-ec348dbbbc9b",
   "metadata": {},
   "outputs": [],
   "source": [
    "from langchain_groq import ChatGroq\n",
    "llm = ChatGroq(groq_api_key=groq_api_key, model_name='Gemma2-9b-it')"
   ]
  },
  {
   "cell_type": "code",
   "execution_count": 9,
   "id": "a0dcf280-19c0-41ea-b95b-4d4a8e30f83d",
   "metadata": {},
   "outputs": [],
   "source": [
    "# start writing chat bot\n",
    "from typing import Annotated\n",
    "from typing_extensions import TypedDict\n",
    "from langgraph.graph import StateGraph, START, END\n",
    "from langgraph.graph.message import add_messages\n"
   ]
  },
  {
   "cell_type": "code",
   "execution_count": 13,
   "id": "4b3f1fa1-3d4c-480b-ad6b-e540441ca9b1",
   "metadata": {},
   "outputs": [],
   "source": [
    "class State(TypedDict):\n",
    "    messages:Annotated[list, add_messages]\n",
    "\n",
    "graph_builder = StateGraph(State)\n",
    "    "
   ]
  },
  {
   "cell_type": "code",
   "execution_count": 14,
   "id": "551a9655-2a48-4425-8e99-60290adee68f",
   "metadata": {},
   "outputs": [],
   "source": [
    "def chatbot(state:State):\n",
    "    return {\"messages\":llm.invoke(state['messages'])}"
   ]
  },
  {
   "cell_type": "code",
   "execution_count": 15,
   "id": "831c5c15-bcf0-4e07-b2cb-70c6bc126860",
   "metadata": {},
   "outputs": [
    {
     "data": {
      "text/plain": [
       "<langgraph.graph.state.StateGraph at 0x1150c48f0>"
      ]
     },
     "execution_count": 15,
     "metadata": {},
     "output_type": "execute_result"
    }
   ],
   "source": [
    "graph_builder.add_node(\"chatbot\", chatbot)"
   ]
  },
  {
   "cell_type": "code",
   "execution_count": 16,
   "id": "0fac0d54-c399-4f3f-a0a1-141e42226edd",
   "metadata": {},
   "outputs": [
    {
     "data": {
      "text/plain": [
       "<langgraph.graph.state.StateGraph at 0x1150c48f0>"
      ]
     },
     "execution_count": 16,
     "metadata": {},
     "output_type": "execute_result"
    }
   ],
   "source": [
    "graph_builder"
   ]
  },
  {
   "cell_type": "code",
   "execution_count": 17,
   "id": "d82b97a2-49ad-40bf-88b2-8ab52906a023",
   "metadata": {},
   "outputs": [
    {
     "data": {
      "text/plain": [
       "<langgraph.graph.state.StateGraph at 0x1150c48f0>"
      ]
     },
     "execution_count": 17,
     "metadata": {},
     "output_type": "execute_result"
    }
   ],
   "source": [
    "graph_builder.add_edge(START, \"chatbot\")\n",
    "graph_builder.add_edge(\"chatbot\", END)"
   ]
  },
  {
   "cell_type": "code",
   "execution_count": 18,
   "id": "5a43ca85-97b3-4881-8af0-7b7912ce7265",
   "metadata": {},
   "outputs": [],
   "source": [
    "graph = graph_builder.compile()"
   ]
  },
  {
   "cell_type": "code",
   "execution_count": 21,
   "id": "fff418b6-28b3-47d5-a2cc-f891513f4cd0",
   "metadata": {},
   "outputs": [
    {
     "data": {
      "image/png": "[encoded data removed]",
      "text/plain": [
       "<IPython.core.display.Image object>"
      ]
     },
     "metadata": {},
     "output_type": "display_data"
    }
   ],
   "source": [
    "# dispaly images\n",
    "\n",
    "from IPython.display import Image, display\n",
    "try:\n",
    "    img_bytes = graph.get_graph().draw_mermaid_png()\n",
    "    display(Image(img_bytes))\n",
    "except Exception:\n",
    "    pass\n",
    "    "
   ]
  },
  {
   "cell_type": "code",
   "execution_count": null,
   "id": "03debdc9-58ac-4061-9a06-e77a12f33666",
   "metadata": {},
   "outputs": [
    {
     "name": "stdin",
     "output_type": "stream",
     "text": [
      "user :  Hi\n"
     ]
    },
    {
     "name": "stdout",
     "output_type": "stream",
     "text": [
      "dict_values([{'messages': AIMessage(content='Hi! 👋\\n\\nWhat can I do for you today?\\n', additional_kwargs={}, response_metadata={'token_usage': {'completion_tokens': 15, 'prompt_tokens': 10, 'total_tokens': 25, 'completion_time': 0.027272727, 'prompt_time': 3.9e-07, 'queue_time': 0.02416215, 'total_time': 0.027273117}, 'model_name': 'Gemma2-9b-it', 'system_fingerprint': 'fp_10c08bf97d', 'finish_reason': 'stop', 'logprobs': None}, id='run-f102b6a4-b1ab-4ece-b635-f6ec300899cc-0', usage_metadata={'input_tokens': 10, 'output_tokens': 15, 'total_tokens': 25})}])\n",
      "Assistant :  Hi! 👋\n",
      "\n",
      "What can I do for you today?\n",
      "\n"
     ]
    },
    {
     "name": "stdin",
     "output_type": "stream",
     "text": [
      "user :  I am learning langgraph.. need some tipes\n"
     ]
    },
    {
     "name": "stdout",
     "output_type": "stream",
     "text": [
      "dict_values([{'messages': AIMessage(content=\"It's great that you're learning about language models! They're fascinating and powerful tools. \\n\\nTo give you the best tips, I need a little more information about what you're trying to learn. \\n\\nCould you tell me more about:\\n\\n* **Your current level of understanding:** Are you just starting out, or do you have some experience with natural language processing (NLP)?\\n* **Your goals:** What do you want to be able to do with language models? Are you interested in building your own, using them for research, or applying them to a specific task?\\n* **Specific areas you're struggling with:** Are there any particular concepts or techniques that you're finding difficult to grasp?\\n\\nOnce I have a better understanding of your needs, I can provide more tailored and helpful tips.\\n\\nIn the meantime, here are some general resources that might be useful:\\n\\n* **Hugging Face:** [https://huggingface.co/](https://huggingface.co/) - A great platform for exploring and using pre-trained language models.\\n* **OpenAI's GPT-3 Playground:** [https://platform.openai.com/playground](https://platform.openai.com/playground) - A fun and interactive way to experiment with GPT-3.\\n* **The Illustrated Transformer:** [https://jalammar.github.io/illustrated-transformer/](https://jalammar.github.io/illustrated-transformer/) - A fantastic blog post that provides a visual explanation of the Transformer architecture.\\n\\nGood luck with your learning journey!\\n\", additional_kwargs={}, response_metadata={'token_usage': {'completion_tokens': 334, 'prompt_tokens': 19, 'total_tokens': 353, 'completion_time': 0.607272727, 'prompt_time': 0.00011148, 'queue_time': 0.01937923, 'total_time': 0.607384207}, 'model_name': 'Gemma2-9b-it', 'system_fingerprint': 'fp_10c08bf97d', 'finish_reason': 'stop', 'logprobs': None}, id='run-6ca05095-8a92-48b9-b661-8feefea82eaf-0', usage_metadata={'input_tokens': 19, 'output_tokens': 334, 'total_tokens': 353})}])\n",
      "Assistant :  It's great that you're learning about language models! They're fascinating and powerful tools. \n",
      "\n",
      "To give you the best tips, I need a little more information about what you're trying to learn. \n",
      "\n",
      "Could you tell me more about:\n",
      "\n",
      "* **Your current level of understanding:** Are you just starting out, or do you have some experience with natural language processing (NLP)?\n",
      "* **Your goals:** What do you want to be able to do with language models? Are you interested in building your own, using them for research, or applying them to a specific task?\n",
      "* **Specific areas you're struggling with:** Are there any particular concepts or techniques that you're finding difficult to grasp?\n",
      "\n",
      "Once I have a better understanding of your needs, I can provide more tailored and helpful tips.\n",
      "\n",
      "In the meantime, here are some general resources that might be useful:\n",
      "\n",
      "* **Hugging Face:** [https://huggingface.co/](https://huggingface.co/) - A great platform for exploring and using pre-trained language models.\n",
      "* **OpenAI's GPT-3 Playground:** [https://platform.openai.com/playground](https://platform.openai.com/playground) - A fun and interactive way to experiment with GPT-3.\n",
      "* **The Illustrated Transformer:** [https://jalammar.github.io/illustrated-transformer/](https://jalammar.github.io/illustrated-transformer/) - A fantastic blog post that provides a visual explanation of the Transformer architecture.\n",
      "\n",
      "Good luck with your learning journey!\n",
      "\n"
     ]
    },
    {
     "name": "stdin",
     "output_type": "stream",
     "text": [
      "user :  quit\n"
     ]
    },
    {
     "name": "stdout",
     "output_type": "stream",
     "text": [
      "bye\n",
      "dict_values([{'messages': AIMessage(content='I understand that you want me to quit.\\n\\nIs there anything else I can help you with before I go?\\n', additional_kwargs={}, response_metadata={'token_usage': {'completion_tokens': 26, 'prompt_tokens': 10, 'total_tokens': 36, 'completion_time': 0.047272727, 'prompt_time': 3.9e-07, 'queue_time': 0.02406627, 'total_time': 0.047273117}, 'model_name': 'Gemma2-9b-it', 'system_fingerprint': 'fp_10c08bf97d', 'finish_reason': 'stop', 'logprobs': None}, id='run-bd872318-ba4b-4684-81bd-bdbf539d6d10-0', usage_metadata={'input_tokens': 10, 'output_tokens': 26, 'total_tokens': 36})}])\n",
      "Assistant :  I understand that you want me to quit.\n",
      "\n",
      "Is there anything else I can help you with before I go?\n",
      "\n"
     ]
    },
    {
     "name": "stdin",
     "output_type": "stream",
     "text": [
      "user :  no\n"
     ]
    },
    {
     "name": "stdout",
     "output_type": "stream",
     "text": [
      "dict_values([{'messages': AIMessage(content='I understand. Is there anything else I can help you with?\\n', additional_kwargs={}, response_metadata={'token_usage': {'completion_tokens': 16, 'prompt_tokens': 10, 'total_tokens': 26, 'completion_time': 0.029090909, 'prompt_time': 3.7e-07, 'queue_time': 0.024972176000000002, 'total_time': 0.029091279}, 'model_name': 'Gemma2-9b-it', 'system_fingerprint': 'fp_10c08bf97d', 'finish_reason': 'stop', 'logprobs': None}, id='run-d4a98f91-8ab1-407e-a4fc-cbe0b20dfc6a-0', usage_metadata={'input_tokens': 10, 'output_tokens': 16, 'total_tokens': 26})}])\n",
      "Assistant :  I understand. Is there anything else I can help you with?\n",
      "\n"
     ]
    },
    {
     "name": "stdin",
     "output_type": "stream",
     "text": [
      "user :  q\n"
     ]
    },
    {
     "name": "stdout",
     "output_type": "stream",
     "text": [
      "bye\n",
      "dict_values([{'messages': AIMessage(content=\"Please provide me with a question or a statement so I can assist you. 😊 \\n\\nFor example, you could ask:\\n\\n* What is the capital of France?\\n* Tell me a joke.\\n* Write a short story about a cat. \\n\\nI'm ready! ✨\\n\", additional_kwargs={}, response_metadata={'token_usage': {'completion_tokens': 62, 'prompt_tokens': 10, 'total_tokens': 72, 'completion_time': 0.112727273, 'prompt_time': 3.9e-07, 'queue_time': 0.024239828, 'total_time': 0.112727663}, 'model_name': 'Gemma2-9b-it', 'system_fingerprint': 'fp_10c08bf97d', 'finish_reason': 'stop', 'logprobs': None}, id='run-7104dcb7-39ef-44e2-b7cb-0bdb6a92330c-0', usage_metadata={'input_tokens': 10, 'output_tokens': 62, 'total_tokens': 72})}])\n",
      "Assistant :  Please provide me with a question or a statement so I can assist you. 😊 \n",
      "\n",
      "For example, you could ask:\n",
      "\n",
      "* What is the capital of France?\n",
      "* Tell me a joke.\n",
      "* Write a short story about a cat. \n",
      "\n",
      "I'm ready! ✨\n",
      "\n"
     ]
    }
   ],
   "source": [
    "while True:\n",
    "    user_input=input(\"user : \")\n",
    "    if user_input.lower() in ['quit', 'q']:\n",
    "        print(\"bye\")\n",
    "    for event in graph.stream({'messages': (\"user\", user_input)}):\n",
    "        print(event.values())\n",
    "        for value in event.values():\n",
    "            print(\"Assistant : \", value[\"messages\"].content)"
   ]
  },
  {
   "cell_type": "code",
   "execution_count": null,
   "id": "c311c296-fe15-44d8-8218-2903e5f6234e",
   "metadata": {},
   "outputs": [],
   "source": []
  }
 ],
 "metadata": {
  "kernelspec": {
   "display_name": "Python (genai)",
   "language": "python",
   "name": "genai"
  },
  "language_info": {
   "codemirror_mode": {
    "name": "ipython",
    "version": 3
   },
   "file_extension": ".py",
   "mimetype": "text/x-python",
   "name": "python",
   "nbconvert_exporter": "python",
   "pygments_lexer": "ipython3",
   "version": "3.12.4"
  }
 },
 "nbformat": 4,
 "nbformat_minor": 5
}
